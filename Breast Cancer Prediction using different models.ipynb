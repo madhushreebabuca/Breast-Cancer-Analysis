{
 "cells": [
  {
   "cell_type": "code",
   "execution_count": 1,
   "id": "fbb56df3",
   "metadata": {},
   "outputs": [],
   "source": [
    "import pandas as pd\n",
    "import numpy as np\n",
    "import matplotlib.pyplot as plt\n",
    "import seaborn as sns\n",
    "from sklearn.model_selection import train_test_split\n",
    "from sklearn.linear_model import LogisticRegression\n",
    "from sklearn.svm import SVC\n",
    "from sklearn.ensemble import RandomForestClassifier\n",
    "from sklearn.neighbors import KNeighborsClassifier\n",
    "from sklearn.preprocessing import LabelEncoder\n",
    "from sklearn.preprocessing import StandardScaler\n",
    "from sklearn.compose import ColumnTransformer\n",
    "from sklearn.metrics import confusion_matrix\n",
    "from sklearn.metrics import classification_report, accuracy_score,r2_score\n",
    "from sklearn import metrics"
   ]
  },
  {
   "cell_type": "code",
   "execution_count": 2,
   "id": "15ba6177",
   "metadata": {},
   "outputs": [],
   "source": [
    "df = pd.read_csv('Breast_Cancer.csv')"
   ]
  },
  {
   "cell_type": "code",
   "execution_count": 3,
   "id": "eaf7b231",
   "metadata": {},
   "outputs": [
    {
     "name": "stdout",
     "output_type": "stream",
     "text": [
      "<class 'pandas.core.frame.DataFrame'>\n",
      "RangeIndex: 4024 entries, 0 to 4023\n",
      "Data columns (total 16 columns):\n",
      " #   Column                  Non-Null Count  Dtype \n",
      "---  ------                  --------------  ----- \n",
      " 0   Age                     4024 non-null   int64 \n",
      " 1   Race                    4024 non-null   object\n",
      " 2   Marital Status          4024 non-null   object\n",
      " 3   T Stage                 4024 non-null   object\n",
      " 4   N Stage                 4024 non-null   object\n",
      " 5   6th Stage               4024 non-null   object\n",
      " 6   differentiate           4024 non-null   object\n",
      " 7   Grade                   4024 non-null   object\n",
      " 8   A Stage                 4024 non-null   object\n",
      " 9   Tumor Size              4024 non-null   int64 \n",
      " 10  Estrogen Status         4024 non-null   object\n",
      " 11  Progesterone Status     4024 non-null   object\n",
      " 12  Regional Node Examined  4024 non-null   int64 \n",
      " 13  Reginol Node Positive   4024 non-null   int64 \n",
      " 14  Survival Months         4024 non-null   int64 \n",
      " 15  Status                  4024 non-null   object\n",
      "dtypes: int64(5), object(11)\n",
      "memory usage: 503.1+ KB\n"
     ]
    }
   ],
   "source": [
    "df.info()"
   ]
  },
  {
   "cell_type": "code",
   "execution_count": 4,
   "id": "abe484b4",
   "metadata": {},
   "outputs": [
    {
     "data": {
      "text/plain": [
       "Age                       0\n",
       "Race                      0\n",
       "Marital Status            0\n",
       "T Stage                   0\n",
       "N Stage                   0\n",
       "6th Stage                 0\n",
       "differentiate             0\n",
       "Grade                     0\n",
       "A Stage                   0\n",
       "Tumor Size                0\n",
       "Estrogen Status           0\n",
       "Progesterone Status       0\n",
       "Regional Node Examined    0\n",
       "Reginol Node Positive     0\n",
       "Survival Months           0\n",
       "Status                    0\n",
       "dtype: int64"
      ]
     },
     "execution_count": 4,
     "metadata": {},
     "output_type": "execute_result"
    }
   ],
   "source": [
    "df.isna().sum()"
   ]
  },
  {
   "cell_type": "code",
   "execution_count": 5,
   "id": "514e9477",
   "metadata": {},
   "outputs": [],
   "source": [
    "#Label encoding for categorical columns\n",
    "categorical_cols = ['Race', 'Marital Status', 'T Stage ', 'N Stage', '6th Stage', 'differentiate', 'Grade', 'A Stage', 'Estrogen Status', 'Progesterone Status', 'Status']\n",
    "le = LabelEncoder()\n",
    "\n",
    "df[categorical_cols] = df[categorical_cols].apply(lambda col: le.fit_transform(col))    "
   ]
  },
  {
   "cell_type": "code",
   "execution_count": 6,
   "id": "957e3360",
   "metadata": {},
   "outputs": [
    {
     "data": {
      "text/html": [
       "<div>\n",
       "<style scoped>\n",
       "    .dataframe tbody tr th:only-of-type {\n",
       "        vertical-align: middle;\n",
       "    }\n",
       "\n",
       "    .dataframe tbody tr th {\n",
       "        vertical-align: top;\n",
       "    }\n",
       "\n",
       "    .dataframe thead th {\n",
       "        text-align: right;\n",
       "    }\n",
       "</style>\n",
       "<table border=\"1\" class=\"dataframe\">\n",
       "  <thead>\n",
       "    <tr style=\"text-align: right;\">\n",
       "      <th></th>\n",
       "      <th>Age</th>\n",
       "      <th>Race</th>\n",
       "      <th>Marital Status</th>\n",
       "      <th>T Stage</th>\n",
       "      <th>N Stage</th>\n",
       "      <th>6th Stage</th>\n",
       "      <th>differentiate</th>\n",
       "      <th>Grade</th>\n",
       "      <th>A Stage</th>\n",
       "      <th>Tumor Size</th>\n",
       "      <th>Estrogen Status</th>\n",
       "      <th>Progesterone Status</th>\n",
       "      <th>Regional Node Examined</th>\n",
       "      <th>Reginol Node Positive</th>\n",
       "      <th>Survival Months</th>\n",
       "      <th>Status</th>\n",
       "    </tr>\n",
       "  </thead>\n",
       "  <tbody>\n",
       "    <tr>\n",
       "      <th>0</th>\n",
       "      <td>68</td>\n",
       "      <td>2</td>\n",
       "      <td>1</td>\n",
       "      <td>0</td>\n",
       "      <td>0</td>\n",
       "      <td>0</td>\n",
       "      <td>1</td>\n",
       "      <td>3</td>\n",
       "      <td>1</td>\n",
       "      <td>4</td>\n",
       "      <td>1</td>\n",
       "      <td>1</td>\n",
       "      <td>24</td>\n",
       "      <td>1</td>\n",
       "      <td>60</td>\n",
       "      <td>0</td>\n",
       "    </tr>\n",
       "    <tr>\n",
       "      <th>1</th>\n",
       "      <td>50</td>\n",
       "      <td>2</td>\n",
       "      <td>1</td>\n",
       "      <td>1</td>\n",
       "      <td>1</td>\n",
       "      <td>2</td>\n",
       "      <td>0</td>\n",
       "      <td>2</td>\n",
       "      <td>1</td>\n",
       "      <td>35</td>\n",
       "      <td>1</td>\n",
       "      <td>1</td>\n",
       "      <td>14</td>\n",
       "      <td>5</td>\n",
       "      <td>62</td>\n",
       "      <td>0</td>\n",
       "    </tr>\n",
       "    <tr>\n",
       "      <th>2</th>\n",
       "      <td>58</td>\n",
       "      <td>2</td>\n",
       "      <td>0</td>\n",
       "      <td>2</td>\n",
       "      <td>2</td>\n",
       "      <td>4</td>\n",
       "      <td>0</td>\n",
       "      <td>2</td>\n",
       "      <td>1</td>\n",
       "      <td>63</td>\n",
       "      <td>1</td>\n",
       "      <td>1</td>\n",
       "      <td>14</td>\n",
       "      <td>7</td>\n",
       "      <td>75</td>\n",
       "      <td>0</td>\n",
       "    </tr>\n",
       "    <tr>\n",
       "      <th>3</th>\n",
       "      <td>58</td>\n",
       "      <td>2</td>\n",
       "      <td>1</td>\n",
       "      <td>0</td>\n",
       "      <td>0</td>\n",
       "      <td>0</td>\n",
       "      <td>1</td>\n",
       "      <td>3</td>\n",
       "      <td>1</td>\n",
       "      <td>18</td>\n",
       "      <td>1</td>\n",
       "      <td>1</td>\n",
       "      <td>2</td>\n",
       "      <td>1</td>\n",
       "      <td>84</td>\n",
       "      <td>0</td>\n",
       "    </tr>\n",
       "    <tr>\n",
       "      <th>4</th>\n",
       "      <td>47</td>\n",
       "      <td>2</td>\n",
       "      <td>1</td>\n",
       "      <td>1</td>\n",
       "      <td>0</td>\n",
       "      <td>1</td>\n",
       "      <td>1</td>\n",
       "      <td>3</td>\n",
       "      <td>1</td>\n",
       "      <td>41</td>\n",
       "      <td>1</td>\n",
       "      <td>1</td>\n",
       "      <td>3</td>\n",
       "      <td>1</td>\n",
       "      <td>50</td>\n",
       "      <td>0</td>\n",
       "    </tr>\n",
       "  </tbody>\n",
       "</table>\n",
       "</div>"
      ],
      "text/plain": [
       "   Age  Race  Marital Status  T Stage   N Stage  6th Stage  differentiate  \\\n",
       "0   68     2               1         0        0          0              1   \n",
       "1   50     2               1         1        1          2              0   \n",
       "2   58     2               0         2        2          4              0   \n",
       "3   58     2               1         0        0          0              1   \n",
       "4   47     2               1         1        0          1              1   \n",
       "\n",
       "   Grade  A Stage  Tumor Size  Estrogen Status  Progesterone Status  \\\n",
       "0      3        1           4                1                    1   \n",
       "1      2        1          35                1                    1   \n",
       "2      2        1          63                1                    1   \n",
       "3      3        1          18                1                    1   \n",
       "4      3        1          41                1                    1   \n",
       "\n",
       "   Regional Node Examined  Reginol Node Positive  Survival Months  Status  \n",
       "0                      24                      1               60       0  \n",
       "1                      14                      5               62       0  \n",
       "2                      14                      7               75       0  \n",
       "3                       2                      1               84       0  \n",
       "4                       3                      1               50       0  "
      ]
     },
     "execution_count": 6,
     "metadata": {},
     "output_type": "execute_result"
    }
   ],
   "source": [
    "df.head()"
   ]
  },
  {
   "cell_type": "code",
   "execution_count": 7,
   "id": "e4b39c4c",
   "metadata": {},
   "outputs": [],
   "source": [
    "X = df.drop(['Status'], axis = 'columns')\n",
    "y = df['Status']"
   ]
  },
  {
   "cell_type": "code",
   "execution_count": 8,
   "id": "a26c1e78",
   "metadata": {},
   "outputs": [],
   "source": [
    "#standardizing using StandardScalar\n",
    "ss = StandardScaler()\n",
    "X = ss.fit_transform(X)"
   ]
  },
  {
   "cell_type": "code",
   "execution_count": 9,
   "id": "956722a7",
   "metadata": {},
   "outputs": [
    {
     "data": {
      "text/plain": [
       "array([[ 1.56525337,  0.39715987, -0.34910251, ...,  1.19067633,\n",
       "        -0.61817175, -0.4929608 ],\n",
       "       [-0.44322226,  0.39715987, -0.34910251, ..., -0.04409458,\n",
       "         0.16480688, -0.40569537],\n",
       "       [ 0.44943358,  0.39715987, -1.28938932, ..., -0.04409458,\n",
       "         0.5562962 ,  0.16152997],\n",
       "       ...,\n",
       "       [ 1.56525337,  0.39715987, -0.34910251, ..., -0.41452585,\n",
       "        -0.22668243, -0.10026634],\n",
       "       [ 0.44943358, -3.14645727, -1.28938932, ..., -0.41452585,\n",
       "        -0.61817175,  0.03063182],\n",
       "       [-0.88955017,  0.39715987, -0.34910251, ..., -0.90843421,\n",
       "        -0.42242709,  1.25234793]])"
      ]
     },
     "execution_count": 9,
     "metadata": {},
     "output_type": "execute_result"
    }
   ],
   "source": [
    "X"
   ]
  },
  {
   "cell_type": "code",
   "execution_count": 10,
   "id": "0e79fd23",
   "metadata": {},
   "outputs": [],
   "source": [
    "X_train, X_test, y_train, y_test = train_test_split(X, y, test_size=0.2, random_state=1)"
   ]
  },
  {
   "cell_type": "markdown",
   "id": "c5ef26de",
   "metadata": {},
   "source": [
    "# Logistic Regression"
   ]
  },
  {
   "cell_type": "code",
   "execution_count": 11,
   "id": "ff26e618",
   "metadata": {},
   "outputs": [
    {
     "data": {
      "text/plain": [
       "0.9031055900621118"
      ]
     },
     "execution_count": 11,
     "metadata": {},
     "output_type": "execute_result"
    }
   ],
   "source": [
    "lr = LogisticRegression(solver='liblinear',multi_class='ovr')\n",
    "lr.fit(X_train, y_train)\n",
    "lr.score(X_test, y_test)"
   ]
  },
  {
   "cell_type": "markdown",
   "id": "e5ac9666",
   "metadata": {},
   "source": [
    "##### Confusion Matrix for Logistic Regression model"
   ]
  },
  {
   "cell_type": "code",
   "execution_count": 12,
   "id": "089de731",
   "metadata": {},
   "outputs": [
    {
     "data": {
      "text/plain": [
       "array([[677,  22],\n",
       "       [ 56,  50]], dtype=int64)"
      ]
     },
     "execution_count": 12,
     "metadata": {},
     "output_type": "execute_result"
    }
   ],
   "source": [
    "y_pred_lr = lr.predict(X_test)\n",
    "cmlr = confusion_matrix(y_test, y_pred_lr)\n",
    "cmlr"
   ]
  },
  {
   "cell_type": "code",
   "execution_count": 13,
   "id": "38d0fa03",
   "metadata": {},
   "outputs": [
    {
     "data": {
      "text/plain": [
       "Text(42.0, 0.5, 'Truth')"
      ]
     },
     "execution_count": 13,
     "metadata": {},
     "output_type": "execute_result"
    },
    {
     "data": {
      "image/png": "[encoded data removed]",
      "text/plain": [
       "<Figure size 504x360 with 2 Axes>"
      ]
     },
     "metadata": {
      "needs_background": "light"
     },
     "output_type": "display_data"
    }
   ],
   "source": [
    "plt.figure(figsize=(7,5))\n",
    "sns.heatmap(cmlr, annot=True)\n",
    "plt.xlabel('Predicted')\n",
    "plt.ylabel('Truth')"
   ]
  },
  {
   "cell_type": "code",
   "execution_count": 14,
   "id": "fda6f654",
   "metadata": {},
   "outputs": [
    {
     "name": "stdout",
     "output_type": "stream",
     "text": [
      "Accuracy: 0.9031055900621118\n",
      "Mean Absolute Error: 0.0968944099378882\n",
      "Mean Squared Error: 0.0968944099378882\n",
      "Root Mean Squared Error: 0.3112786692625889\n",
      "R2_Score: 0.1525629605636084\n"
     ]
    }
   ],
   "source": [
    "# Model Accuracy\n",
    "print(\"Accuracy:\",metrics.accuracy_score(y_test, y_pred_lr))\n",
    "print(\"Mean Absolute Error:\", metrics.mean_absolute_error(y_test, y_pred_lr))\n",
    "print(\"Mean Squared Error:\", metrics.mean_squared_error(y_test, y_pred_lr))\n",
    "print(\"Root Mean Squared Error:\", np.sqrt(metrics.mean_squared_error(y_test, y_pred_lr)))\n",
    "print(\"R2_Score:\",metrics.r2_score(y_test, y_pred_lr))"
   ]
  },
  {
   "cell_type": "markdown",
   "id": "bfc8a36f",
   "metadata": {},
   "source": [
    "# SVM"
   ]
  },
  {
   "cell_type": "code",
   "execution_count": 15,
   "id": "18e8e7ec",
   "metadata": {},
   "outputs": [
    {
     "data": {
      "text/plain": [
       "0.9006211180124224"
      ]
     },
     "execution_count": 15,
     "metadata": {},
     "output_type": "execute_result"
    }
   ],
   "source": [
    "svm = SVC(gamma='auto')\n",
    "svm.fit(X_train, y_train)\n",
    "svm.score(X_test, y_test)"
   ]
  },
  {
   "cell_type": "markdown",
   "id": "a6e46d39",
   "metadata": {},
   "source": [
    "##### Confusion Matrix for SVM model"
   ]
  },
  {
   "cell_type": "code",
   "execution_count": 16,
   "id": "c78f462d",
   "metadata": {},
   "outputs": [
    {
     "data": {
      "text/plain": [
       "array([[688,  11],\n",
       "       [ 69,  37]], dtype=int64)"
      ]
     },
     "execution_count": 16,
     "metadata": {},
     "output_type": "execute_result"
    }
   ],
   "source": [
    "y_pred_svm = svm.predict(X_test)\n",
    "cms = confusion_matrix(y_test, y_pred_svm)\n",
    "cms"
   ]
  },
  {
   "cell_type": "code",
   "execution_count": 17,
   "id": "4a1d92b2",
   "metadata": {},
   "outputs": [
    {
     "data": {
      "text/plain": [
       "Text(42.0, 0.5, 'Truth')"
      ]
     },
     "execution_count": 17,
     "metadata": {},
     "output_type": "execute_result"
    },
    {
     "data": {
      "image/png": "[encoded data removed]",
      "text/plain": [
       "<Figure size 504x360 with 2 Axes>"
      ]
     },
     "metadata": {
      "needs_background": "light"
     },
     "output_type": "display_data"
    }
   ],
   "source": [
    "plt.figure(figsize=(7,5))\n",
    "sns.heatmap(cms, annot=True)\n",
    "plt.xlabel('Predicted')\n",
    "plt.ylabel('Truth')"
   ]
  },
  {
   "cell_type": "code",
   "execution_count": 18,
   "id": "80d261e0",
   "metadata": {},
   "outputs": [
    {
     "name": "stdout",
     "output_type": "stream",
     "text": [
      "Accuracy: 0.9006211180124224\n",
      "Mean Absolute Error: 0.09937888198757763\n",
      "Mean Squared Error: 0.09937888198757763\n",
      "Root Mean Squared Error: 0.31524416249564025\n",
      "R2_Score: 0.13083380570626502\n"
     ]
    }
   ],
   "source": [
    "# Model Accuracy\n",
    "print(\"Accuracy:\",metrics.accuracy_score(y_test, y_pred_svm))\n",
    "print(\"Mean Absolute Error:\", metrics.mean_absolute_error(y_test, y_pred_svm))\n",
    "print(\"Mean Squared Error:\", metrics.mean_squared_error(y_test, y_pred_svm))\n",
    "print(\"Root Mean Squared Error:\", np.sqrt(metrics.mean_squared_error(y_test, y_pred_svm)))\n",
    "print(\"R2_Score:\",metrics.r2_score(y_test, y_pred_svm))"
   ]
  },
  {
   "cell_type": "markdown",
   "id": "a4bc59c8",
   "metadata": {},
   "source": [
    "# KNN"
   ]
  },
  {
   "cell_type": "code",
   "execution_count": 19,
   "id": "e85d7dfe",
   "metadata": {},
   "outputs": [
    {
     "data": {
      "text/plain": [
       "0.8906832298136645"
      ]
     },
     "execution_count": 19,
     "metadata": {},
     "output_type": "execute_result"
    }
   ],
   "source": [
    "knn = KNeighborsClassifier(n_neighbors=10)\n",
    "knn.fit(X_train, y_train)\n",
    "knn.score(X_test, y_test)"
   ]
  },
  {
   "cell_type": "markdown",
   "id": "23fcbd94",
   "metadata": {},
   "source": [
    "##### Confusion Matrix for KNN model"
   ]
  },
  {
   "cell_type": "code",
   "execution_count": 20,
   "id": "d7d2f421",
   "metadata": {},
   "outputs": [
    {
     "data": {
      "text/plain": [
       "array([[694,   5],\n",
       "       [ 83,  23]], dtype=int64)"
      ]
     },
     "execution_count": 20,
     "metadata": {},
     "output_type": "execute_result"
    }
   ],
   "source": [
    "y_pred_knn = knn.predict(X_test)\n",
    "cmknn = confusion_matrix(y_test, y_pred_knn)\n",
    "cmknn"
   ]
  },
  {
   "cell_type": "code",
   "execution_count": 21,
   "id": "ea88415b",
   "metadata": {},
   "outputs": [
    {
     "data": {
      "text/plain": [
       "Text(42.0, 0.5, 'Truth')"
      ]
     },
     "execution_count": 21,
     "metadata": {},
     "output_type": "execute_result"
    },
    {
     "data": {
      "image/png": "[encoded data removed]",
      "text/plain": [
       "<Figure size 504x360 with 2 Axes>"
      ]
     },
     "metadata": {
      "needs_background": "light"
     },
     "output_type": "display_data"
    }
   ],
   "source": [
    "plt.figure(figsize=(7,5))\n",
    "sns.heatmap(cmknn, annot=True)\n",
    "plt.xlabel('Predicted')\n",
    "plt.ylabel('Truth')"
   ]
  },
  {
   "cell_type": "code",
   "execution_count": 22,
   "id": "3f0a8741",
   "metadata": {},
   "outputs": [
    {
     "name": "stdout",
     "output_type": "stream",
     "text": [
      "Accuracy: 0.8906832298136645\n",
      "Mean Absolute Error: 0.1093167701863354\n",
      "Mean Squared Error: 0.1093167701863354\n",
      "Root Mean Squared Error: 0.3306308669594165\n",
      "R2_Score: 0.04391718627689156\n"
     ]
    }
   ],
   "source": [
    "# Model Accuracy\n",
    "print(\"Accuracy:\",metrics.accuracy_score(y_test, y_pred_knn))\n",
    "print(\"Mean Absolute Error:\", metrics.mean_absolute_error(y_test, y_pred_knn))\n",
    "print(\"Mean Squared Error:\", metrics.mean_squared_error(y_test, y_pred_knn))\n",
    "print(\"Root Mean Squared Error:\", np.sqrt(metrics.mean_squared_error(y_test, y_pred_knn)))\n",
    "print(\"R2_Score:\",metrics.r2_score(y_test, y_pred_knn))"
   ]
  },
  {
   "cell_type": "markdown",
   "id": "5e253808",
   "metadata": {},
   "source": [
    "# Random Forest"
   ]
  },
  {
   "cell_type": "code",
   "execution_count": 23,
   "id": "a81dabcd",
   "metadata": {},
   "outputs": [
    {
     "data": {
      "text/plain": [
       "0.9080745341614906"
      ]
     },
     "execution_count": 23,
     "metadata": {},
     "output_type": "execute_result"
    }
   ],
   "source": [
    "rf = RandomForestClassifier(n_estimators=40)\n",
    "rf.fit(X_train, y_train)\n",
    "rf.score(X_test, y_test)"
   ]
  },
  {
   "cell_type": "markdown",
   "id": "56f4e6a2",
   "metadata": {},
   "source": [
    "##### Confusion Matrix for Random Forest model -  considering all variables"
   ]
  },
  {
   "cell_type": "code",
   "execution_count": 24,
   "id": "eb5198b2",
   "metadata": {},
   "outputs": [
    {
     "data": {
      "text/plain": [
       "array([[683,  16],\n",
       "       [ 58,  48]], dtype=int64)"
      ]
     },
     "execution_count": 24,
     "metadata": {},
     "output_type": "execute_result"
    }
   ],
   "source": [
    "y_pred_rf = rf.predict(X_test)\n",
    "cmrf = confusion_matrix(y_test, y_pred_rf)\n",
    "cmrf"
   ]
  },
  {
   "cell_type": "code",
   "execution_count": 25,
   "id": "50ac2f60",
   "metadata": {},
   "outputs": [
    {
     "data": {
      "text/plain": [
       "Text(42.0, 0.5, 'Truth')"
      ]
     },
     "execution_count": 25,
     "metadata": {},
     "output_type": "execute_result"
    },
    {
     "data": {
      "image/png": "[encoded data removed]",
      "text/plain": [
       "<Figure size 504x360 with 2 Axes>"
      ]
     },
     "metadata": {
      "needs_background": "light"
     },
     "output_type": "display_data"
    }
   ],
   "source": [
    "plt.figure(figsize=(7,5))\n",
    "sns.heatmap(cmrf, annot=True)\n",
    "plt.xlabel('Predicted')\n",
    "plt.ylabel('Truth')"
   ]
  },
  {
   "cell_type": "code",
   "execution_count": 26,
   "id": "fff72b8d",
   "metadata": {},
   "outputs": [
    {
     "name": "stdout",
     "output_type": "stream",
     "text": [
      "Accuracy: 0.9080745341614906\n",
      "Mean Absolute Error: 0.09192546583850932\n",
      "Mean Squared Error: 0.09192546583850932\n",
      "Root Mean Squared Error: 0.3031921269401785\n",
      "R2_Score: 0.1960212702782952\n"
     ]
    }
   ],
   "source": [
    "# Model Accuracy\n",
    "print(\"Accuracy:\",metrics.accuracy_score(y_test, y_pred_rf))\n",
    "print(\"Mean Absolute Error:\", metrics.mean_absolute_error(y_test, y_pred_rf))\n",
    "print(\"Mean Squared Error:\", metrics.mean_squared_error(y_test, y_pred_rf))\n",
    "print(\"Root Mean Squared Error:\", np.sqrt(metrics.mean_squared_error(y_test, y_pred_rf)))\n",
    "print(\"R2_Score:\",metrics.r2_score(y_test, y_pred_rf))"
   ]
  },
  {
   "cell_type": "markdown",
   "id": "77b96a8e",
   "metadata": {},
   "source": [
    "The above 4 models gives the accuracy by considering all the variables in the dataset. But there are some variables like Race or Size of Tumor (The size of tumor can vary for different types of cancer and breast cancer tissues can still have impact even if they are small. Some tumors, even if the size is either bog or small, it is hard to differentiate they are benign or malignant), that are irrelevant for the diagnosis. So, from the given data, let us try to extract important features using feature_importances_ function in Random Forest Classifier method."
   ]
  },
  {
   "cell_type": "code",
   "execution_count": 27,
   "id": "5e0d0686",
   "metadata": {},
   "outputs": [],
   "source": [
    "X_train_cols = ['Age','Race', 'Marital Status', 'T Stage ', 'N Stage', '6th Stage', 'differentiate', 'Grade', 'Tumor Size', 'A Stage', 'Estrogen Status', 'Progesterone Status', 'Regional Node Examined', 'Reginol Node Positive', 'Survival Months']"
   ]
  },
  {
   "cell_type": "code",
   "execution_count": 28,
   "id": "189f2056",
   "metadata": {},
   "outputs": [
    {
     "data": {
      "text/plain": [
       "Survival Months           0.371832\n",
       "Age                       0.113638\n",
       "Regional Node Examined    0.102966\n",
       "A Stage                   0.101343\n",
       "Reginol Node Positive     0.083635\n",
       "Marital Status            0.040060\n",
       "6th Stage                 0.030163\n",
       "N Stage                   0.026167\n",
       "Progesterone Status       0.024939\n",
       "Grade                     0.023805\n",
       "T Stage                   0.023398\n",
       "Race                      0.020738\n",
       "differentiate             0.017495\n",
       "Estrogen Status           0.016084\n",
       "Tumor Size                0.003737\n",
       "dtype: float64"
      ]
     },
     "execution_count": 28,
     "metadata": {},
     "output_type": "execute_result"
    }
   ],
   "source": [
    "importance = pd.Series(rf.feature_importances_,index=X_train_cols).sort_values(ascending=False)\n",
    "importance"
   ]
  },
  {
   "cell_type": "code",
   "execution_count": 29,
   "id": "47360a52",
   "metadata": {},
   "outputs": [
    {
     "name": "stderr",
     "output_type": "stream",
     "text": [
      "No handles with labels found to put in legend.\n"
     ]
    },
    {
     "data": {
      "image/png": "[encoded data removed]",
      "text/plain": [
       "<Figure size 432x288 with 1 Axes>"
      ]
     },
     "metadata": {
      "needs_background": "light"
     },
     "output_type": "display_data"
    }
   ],
   "source": [
    "sns.barplot(x=importance, y=importance.index)\n",
    "# Add labels to your graph\n",
    "plt.xlabel('Feature Importance Score')\n",
    "plt.ylabel('Features')\n",
    "plt.title(\"Visualizing Important Features\")\n",
    "plt.legend()\n",
    "plt.show()"
   ]
  },
  {
   "cell_type": "code",
   "execution_count": 30,
   "id": "f399ecff",
   "metadata": {},
   "outputs": [],
   "source": [
    "X_train_scaled = df.drop(['Grade', 'Progesterone Status', 'Race', 'differentiate', 'Estrogen Status', 'Tumor Size'], axis = 'columns')\n",
    "X_train_scaled_rf = ss.fit_transform(X_train_scaled)"
   ]
  },
  {
   "cell_type": "code",
   "execution_count": 31,
   "id": "e76acb45",
   "metadata": {},
   "outputs": [],
   "source": [
    "X_train, X_test, y_train, y_test = train_test_split(X_train_scaled_rf, y, test_size=0.2, random_state=1)"
   ]
  },
  {
   "cell_type": "code",
   "execution_count": 32,
   "id": "6b14694d",
   "metadata": {},
   "outputs": [
    {
     "data": {
      "text/plain": [
       "1.0"
      ]
     },
     "execution_count": 32,
     "metadata": {},
     "output_type": "execute_result"
    }
   ],
   "source": [
    "rf = RandomForestClassifier(n_estimators=40,criterion='gini', bootstrap=True, max_depth = 4)\n",
    "rf.fit(X_train, y_train)\n",
    "rf.score(X_test, y_test)"
   ]
  },
  {
   "cell_type": "markdown",
   "id": "781cf788",
   "metadata": {},
   "source": [
    "We can see that, considering only the important features, with some penalties, is giving highest accuracy range to predict the living status of the patient."
   ]
  },
  {
   "cell_type": "markdown",
   "id": "9c3109b1",
   "metadata": {},
   "source": [
    "##### Confusion Matrix for Random Forest model -  considering only top 10 the important features"
   ]
  },
  {
   "cell_type": "code",
   "execution_count": 33,
   "id": "641925bc",
   "metadata": {},
   "outputs": [
    {
     "data": {
      "text/plain": [
       "array([[699,   0],\n",
       "       [  0, 106]], dtype=int64)"
      ]
     },
     "execution_count": 33,
     "metadata": {},
     "output_type": "execute_result"
    }
   ],
   "source": [
    "y_pred_rf_imp = rf.predict(X_test)\n",
    "cmrf_imp = confusion_matrix(y_test, y_pred_rf_imp)\n",
    "cmrf_imp"
   ]
  },
  {
   "cell_type": "code",
   "execution_count": 34,
   "id": "6f81147d",
   "metadata": {},
   "outputs": [
    {
     "data": {
      "text/plain": [
       "Text(42.0, 0.5, 'Truth')"
      ]
     },
     "execution_count": 34,
     "metadata": {},
     "output_type": "execute_result"
    },
    {
     "data": {
      "image/png": "[encoded data removed]",
      "text/plain": [
       "<Figure size 504x360 with 2 Axes>"
      ]
     },
     "metadata": {
      "needs_background": "light"
     },
     "output_type": "display_data"
    }
   ],
   "source": [
    "plt.figure(figsize=(7,5))\n",
    "sns.heatmap(cmrf_imp, annot=True)\n",
    "plt.xlabel('Predicted')\n",
    "plt.ylabel('Truth')"
   ]
  },
  {
   "cell_type": "code",
   "execution_count": 35,
   "id": "cb026c2a",
   "metadata": {},
   "outputs": [
    {
     "name": "stdout",
     "output_type": "stream",
     "text": [
      "Accuracy: 1.0\n",
      "Mean Absolute Error: 0.0\n",
      "Mean Squared Error: 0.0\n",
      "Root Mean Squared Error: 0.0\n",
      "R2_Score: 1.0\n"
     ]
    }
   ],
   "source": [
    "# Model Accuracy\n",
    "print(\"Accuracy:\",metrics.accuracy_score(y_test, y_pred_rf_imp))\n",
    "print(\"Mean Absolute Error:\", metrics.mean_absolute_error(y_test, y_pred_rf_imp))\n",
    "print(\"Mean Squared Error:\", metrics.mean_squared_error(y_test, y_pred_rf_imp))\n",
    "print(\"Root Mean Squared Error:\", np.sqrt(metrics.mean_squared_error(y_test, y_pred_rf_imp)))\n",
    "print(\"R2_Score:\",metrics.r2_score(y_test, y_pred_rf_imp))"
   ]
  },
  {
   "cell_type": "code",
   "execution_count": null,
   "id": "856c88d3",
   "metadata": {},
   "outputs": [],
   "source": []
  }
 ],
 "metadata": {
  "kernelspec": {
   "display_name": "Python 3 (ipykernel)",
   "language": "python",
   "name": "python3"
  },
  "language_info": {
   "codemirror_mode": {
    "name": "ipython",
    "version": 3
   },
   "file_extension": ".py",
   "mimetype": "text/x-python",
   "name": "python",
   "nbconvert_exporter": "python",
   "pygments_lexer": "ipython3",
   "version": "3.9.7"
  }
 },
 "nbformat": 4,
 "nbformat_minor": 5
}
